{
 "cells": [
  {
   "cell_type": "code",
   "execution_count": 1,
   "id": "695df60c-1f01-4ad0-b88c-df667c1f9f21",
   "metadata": {},
   "outputs": [],
   "source": [
    "#Answer 1"
   ]
  },
  {
   "cell_type": "code",
   "execution_count": 3,
   "id": "d5e99d3e-16d6-416d-9a3a-b402dfeb1967",
   "metadata": {},
   "outputs": [
    {
     "name": "stdout",
     "output_type": "stream",
     "text": [
      "1\n",
      "2\n",
      "3\n",
      "4\n",
      "5\n"
     ]
    }
   ],
   "source": [
    "a = 1\n",
    "\n",
    "while a < 6:\n",
    "    print (a)\n",
    "    a = a+1\n",
    "     "
   ]
  },
  {
   "cell_type": "code",
   "execution_count": 4,
   "id": "436b8d6d-f10f-4031-8cf8-04d5d0989819",
   "metadata": {},
   "outputs": [],
   "source": [
    "#Answer 2"
   ]
  },
  {
   "cell_type": "code",
   "execution_count": 3,
   "id": "c52d856a-02bf-448c-9ad3-ce48ca8d4a0d",
   "metadata": {},
   "outputs": [
    {
     "name": "stdout",
     "output_type": "stream",
     "text": [
      "the sum of number 1 to 10 is: 55\n"
     ]
    }
   ],
   "source": [
    "number = 1\n",
    "total_sum=0\n",
    "while number <=10:\n",
    "    total_sum += number\n",
    "    number+=1\n",
    "    \n",
    "print (\"the sum of number 1 to 10 is:\", total_sum)\n",
    "    \n",
    "    \n",
    "    "
   ]
  },
  {
   "cell_type": "code",
   "execution_count": 4,
   "id": "fa15b441-dbb8-4e96-a3e1-b63b46c76fe5",
   "metadata": {},
   "outputs": [],
   "source": [
    "#Answer 3"
   ]
  },
  {
   "cell_type": "code",
   "execution_count": 9,
   "id": "3db44c99-304c-469a-b1d5-c357f2edc9c3",
   "metadata": {},
   "outputs": [
    {
     "name": "stdout",
     "output_type": "stream",
     "text": [
      "the factorial of 5 is: 120\n"
     ]
    }
   ],
   "source": [
    "def factorial(n):\n",
    "    result = 1\n",
    "    \n",
    "    for i in range(1,n+1):\n",
    "        result*=i\n",
    "    \n",
    "    return result\n",
    "\n",
    "number = 5\n",
    "print (\"the factorial of\", number, \"is:\", factorial(number))"
   ]
  },
  {
   "cell_type": "code",
   "execution_count": 11,
   "id": "aea5603e-ec90-4d27-b914-430725cdf056",
   "metadata": {},
   "outputs": [],
   "source": [
    "#Answer 4"
   ]
  },
  {
   "cell_type": "code",
   "execution_count": 13,
   "id": "571124d7-fdfe-4430-bb55-a7eb1d683cd8",
   "metadata": {},
   "outputs": [
    {
     "name": "stdout",
     "output_type": "stream",
     "text": [
      "The number of vowels in the string is: 5\n"
     ]
    }
   ],
   "source": [
    "\n",
    "def count_vowels(string):\n",
    "    vowel_count = 0\n",
    "    \n",
    "    vowels = \"aeiou\"\n",
    "    for char in string:\n",
    "        if char in vowels:\n",
    "            vowel_count += 1\n",
    "    \n",
    "    return vowel_count\n",
    "\n",
    "\n",
    "sample_string = \"i am a hero\"\n",
    "print(\"The number of vowels in the string is:\", count_vowels(sample_string))\n"
   ]
  },
  {
   "cell_type": "code",
   "execution_count": 14,
   "id": "6ccb208b-71a3-46cc-8b4c-7f6c6d2d45f3",
   "metadata": {},
   "outputs": [],
   "source": [
    "#Answer 5"
   ]
  },
  {
   "cell_type": "code",
   "execution_count": 15,
   "id": "8a477a31-810d-441b-835d-fccea5acad59",
   "metadata": {},
   "outputs": [
    {
     "name": "stdout",
     "output_type": "stream",
     "text": [
      "*  \n",
      "*  *  \n",
      "*  *  *  \n",
      "*  *  *  *  \n",
      "*  *  *  *  *  \n",
      "*  *  *  *  *  *  \n",
      "*  *  *  *  *  *  *  \n",
      "*  *  *  *  *  *  *  *  \n",
      "*  *  *  *  *  *  *  *  *  \n",
      "*  *  *  *  *  *  *  *  *  *  \n"
     ]
    }
   ],
   "source": [
    "for i in range(10):\n",
    "    for j in range(i+1):\n",
    "        print(\"*\", end=\"  \")\n",
    "    print()"
   ]
  },
  {
   "cell_type": "code",
   "execution_count": 23,
   "id": "0e6e3c8c-f7a3-4439-8c7a-00867c408853",
   "metadata": {},
   "outputs": [
    {
     "name": "stdout",
     "output_type": "stream",
     "text": [
      "0 * 0 = 0\n",
      "0 * 1 = 0\n",
      "0 * 2 = 0\n",
      "1 * 0 = 0\n",
      "1 * 1 = 1\n",
      "1 * 2 = 2\n",
      "2 * 0 = 0\n",
      "2 * 1 = 2\n",
      "2 * 2 = 4\n",
      "3 * 0 = 0\n",
      "3 * 1 = 3\n",
      "3 * 2 = 6\n",
      "4 * 0 = 0\n",
      "4 * 1 = 4\n",
      "4 * 2 = 8\n"
     ]
    }
   ],
   "source": [
    "for i in range(5):\n",
    "    for j in range(3):\n",
    "        product = i*j\n",
    "        print(f\"{i} * {j} = {product}\")"
   ]
  },
  {
   "cell_type": "code",
   "execution_count": null,
   "id": "59e4a31a-d0e7-4c86-bdbb-fa34e77488b6",
   "metadata": {},
   "outputs": [],
   "source": []
  },
  {
   "cell_type": "code",
   "execution_count": null,
   "id": "ff285954-7163-4a66-b5bc-276b5bce276e",
   "metadata": {},
   "outputs": [],
   "source": []
  }
 ],
 "metadata": {
  "kernelspec": {
   "display_name": "Python 3 (ipykernel)",
   "language": "python",
   "name": "python3"
  },
  "language_info": {
   "codemirror_mode": {
    "name": "ipython",
    "version": 3
   },
   "file_extension": ".py",
   "mimetype": "text/x-python",
   "name": "python",
   "nbconvert_exporter": "python",
   "pygments_lexer": "ipython3",
   "version": "3.10.8"
  }
 },
 "nbformat": 4,
 "nbformat_minor": 5
}
